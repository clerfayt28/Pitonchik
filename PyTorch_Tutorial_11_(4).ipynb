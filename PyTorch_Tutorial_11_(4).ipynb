{
  "nbformat": 4,
  "nbformat_minor": 0,
  "metadata": {
    "colab": {
      "provenance": [],
      "authorship_tag": "ABX9TyPs9BJ6aegWu++JO/2pTV63",
      "include_colab_link": true
    },
    "kernelspec": {
      "name": "python3",
      "display_name": "Python 3"
    },
    "language_info": {
      "name": "python"
    }
  },
  "cells": [
    {
      "cell_type": "markdown",
      "metadata": {
        "id": "view-in-github",
        "colab_type": "text"
      },
      "source": [
        "<a href=\"https://colab.research.google.com/github/clerfayt28/Pitonchik/blob/main/PyTorch_Tutorial_11_(4).ipynb\" target=\"_parent\"><img src=\"https://colab.research.google.com/assets/colab-badge.svg\" alt=\"Open In Colab\"/></a>"
      ]
    },
    {
      "cell_type": "code",
      "execution_count": 1,
      "metadata": {
        "id": "JUQQdTtgSdTE"
      },
      "outputs": [],
      "source": [
        "import torch\n",
        "import torch.nn as nn\n",
        "import numpy as np"
      ]
    },
    {
      "cell_type": "code",
      "source": [
        "#Binary Classification\n",
        "class NeuralNet1 (nn.Module):\n",
        "  def __init__ (self, input_size, hidden_size, num_classes):\n",
        "    super (NeuralNet1, self).__init__()\n",
        "    self.linear1 = nn.Linear (input_size, hidden_size)\n",
        "    self.relu = nn.ReLU ()\n",
        "    self.linear2 = nn.Linear (hidden_size, num_classes)\n",
        "\n",
        "  def forward (self, x):\n",
        "    out = self.linear1 (x)\n",
        "    out = self.relu(out)\n",
        "    out = self.linear2 (out)\n",
        "    y_pred = torch.sigmoid (out)\n",
        "    return y_pred"
      ],
      "metadata": {
        "id": "kGF5dNeWYHgK"
      },
      "execution_count": 2,
      "outputs": []
    },
    {
      "cell_type": "code",
      "source": [
        "model = NeuralNet1 (input_size = 28*28, hidden_size=5, num_classes=3)\n",
        "criterion = nn.BCELoss ()"
      ],
      "metadata": {
        "id": "cDB5XeMHZQlV"
      },
      "execution_count": 3,
      "outputs": []
    }
  ]
}