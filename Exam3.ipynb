{
  "nbformat": 4,
  "nbformat_minor": 0,
  "metadata": {
    "colab": {
      "provenance": [],
      "authorship_tag": "ABX9TyOvEiPaGHMpJ8HmuMPK4zN4",
      "include_colab_link": true
    },
    "kernelspec": {
      "name": "python3",
      "display_name": "Python 3"
    },
    "language_info": {
      "name": "python"
    }
  },
  "cells": [
    {
      "cell_type": "markdown",
      "metadata": {
        "id": "view-in-github",
        "colab_type": "text"
      },
      "source": [
        "<a href=\"https://colab.research.google.com/github/clerfayt28/Pitonchik/blob/main/Exam3.ipynb\" target=\"_parent\"><img src=\"https://colab.research.google.com/assets/colab-badge.svg\" alt=\"Open In Colab\"/></a>"
      ]
    },
    {
      "cell_type": "code",
      "execution_count": 29,
      "metadata": {
        "id": "A4Lk6sd-LR0K"
      },
      "outputs": [],
      "source": [
        "from torch.utils.data import Dataset,DataLoader\n",
        "import torchvision\n",
        "import torchvision.transforms as transforms\n",
        "import numpy as np\n",
        "import os\n",
        "from PIL import Image\n",
        "import matplotlib.pyplot as plt"
      ]
    },
    {
      "cell_type": "code",
      "source": [
        "\"\"\"import struct\n",
        "import sys\n",
        "from array import array\n",
        "from os import path\n",
        "\n",
        "train_dataset = torchvision.datasets.MNIST(root='./cache', train=True, download=True)\n",
        "test_dataset = torchvision.datasets.MNIST(root='./cache', train=False, download=True)\n",
        "\n",
        "def read(dataset):\n",
        "    if dataset == \"training\":\n",
        "        path_img = \"./cache/MNIST/raw/train-images-idx3-ubyte\"\n",
        "        path_lbl = \"./cache/MNIST/raw/train-labels-idx1-ubyte\"\n",
        "    elif dataset == \"testing\":\n",
        "        path_img = \"./cache/MNIST/raw/t10k-images-idx3-ubyte\"\n",
        "        path_lbl = \"./cache/MNIST/raw/t10k-labels-idx1-ubyte\"\n",
        "    else:\n",
        "        raise ValueError(\"dataset must be 'testing' or 'training'\")\n",
        "\n",
        "    with open(path_lbl, 'rb') as f_lable:\n",
        "        __, size = struct.unpack(\">II\", f_lable.read(8))\n",
        "        lbl = array(\"B\", f_lable.read())\n",
        "\n",
        "    with open(path_img, 'rb') as f_img:\n",
        "        __, size, nrows, ncols = struct.unpack(\">IIII\", f_img.read(16))\n",
        "        img = array(\"B\", f_img.read())\n",
        "\n",
        "    return lbl, img, size, nrows, ncols\n",
        "\n",
        "def write_dataset(labels, data, size, rows, cols, output_dir):\n",
        "    classes = {i: f\"class{i}\" for i in range(10)}\n",
        "\n",
        "    output_dirs = [path.join(output_dir, classes[i]) for i in range(10)]\n",
        "\n",
        "    for dir in output_dirs:\n",
        "        dir = dir.replace(\"\\\\\", \"/\")\n",
        "        if not path.exists(dir):\n",
        "            os.mkdir(dir)\n",
        "\n",
        "    for (i, label) in enumerate(labels):\n",
        "        output_filename = path.join(output_dirs[label], str(i) + \".jpg\")\n",
        "        print(\"Writing \" + output_filename)\n",
        "\n",
        "        with open(output_filename, \"wb\") as h:\n",
        "            data_i = [\n",
        "                data[ (i*rows*cols) + j*rows : (i*rows*cols) + (j+1)*rows ] for j in range(rows)\n",
        "            ]\n",
        "            data_array = np.asarray(data_i)\n",
        "\n",
        "            im = Image.fromarray(data_array)\n",
        "\n",
        "\n",
        "            im.save(output_filename)\n",
        "\n",
        "for dataset in [\"training\", \"testing\"]:\n",
        "    write_dataset(*read(dataset), path.join(\"data2\", dataset))\n",
        "    \"\"\""
      ],
      "metadata": {
        "colab": {
          "base_uri": "https://localhost:8080/",
          "height": 174
        },
        "id": "bKkQ8qiFMBP2",
        "outputId": "ce2069e0-0564-4ac0-9c64-4ee5ecd059fc"
      },
      "execution_count": 30,
      "outputs": [
        {
          "output_type": "execute_result",
          "data": {
            "text/plain": [
              "'import struct\\nimport sys\\nfrom array import array\\nfrom os import path\\n\\ntrain_dataset = torchvision.datasets.MNIST(root=\\'./cache\\', train=True, download=True)\\ntest_dataset = torchvision.datasets.MNIST(root=\\'./cache\\', train=False, download=True)\\n\\ndef read(dataset):\\n    if dataset == \"training\":\\n        path_img = \"./cache/MNIST/raw/train-images-idx3-ubyte\"\\n        path_lbl = \"./cache/MNIST/raw/train-labels-idx1-ubyte\"\\n    elif dataset == \"testing\":\\n        path_img = \"./cache/MNIST/raw/t10k-images-idx3-ubyte\"\\n        path_lbl = \"./cache/MNIST/raw/t10k-labels-idx1-ubyte\"\\n    else:\\n        raise ValueError(\"dataset must be \\'testing\\' or \\'training\\'\")\\n\\n    with open(path_lbl, \\'rb\\') as f_lable:\\n        __, size = struct.unpack(\">II\", f_lable.read(8))\\n        lbl = array(\"B\", f_lable.read())\\n\\n    with open(path_img, \\'rb\\') as f_img:\\n        __, size, nrows, ncols = struct.unpack(\">IIII\", f_img.read(16))\\n        img = array(\"B\", f_img.read())\\n\\n    return lbl, img, size, nrows, ncols\\n\\ndef write_dataset(labels, data, size, rows, cols, output_dir):\\n    classes = {i: f\"class{i}\" for i in range(10)}\\n\\n    output_dirs = [path.join(output_dir, classes[i]) for i in range(10)]\\n\\n    for dir in output_dirs:\\n        dir = dir.replace(\"\\\\\", \"/\")\\n        if not path.exists(dir):\\n            os.mkdir(dir)\\n\\n    for (i, label) in enumerate(labels):\\n        output_filename = path.join(output_dirs[label], str(i) + \".jpg\")\\n        print(\"Writing \" + output_filename)\\n\\n        with open(output_filename, \"wb\") as h:\\n            data_i = [\\n                data[ (i*rows*cols) + j*rows : (i*rows*cols) + (j+1)*rows ] for j in range(rows)\\n            ]\\n            data_array = np.asarray(data_i)\\n\\n            im = Image.fromarray(data_array)\\n\\n\\n            im.save(output_filename)\\n\\nfor dataset in [\"training\", \"testing\"]:\\n    write_dataset(*read(dataset), path.join(\"data2\", dataset))\\n    '"
            ],
            "application/vnd.google.colaboratory.intrinsic+json": {
              "type": "string"
            }
          },
          "metadata": {},
          "execution_count": 30
        }
      ]
    },
    {
      "cell_type": "code",
      "source": [
        "class CustomImageDataset(Dataset):\n",
        "    def __init__(self, dir_path):\n",
        "        self.dir_path = dir_path\n",
        "\n",
        "        self.len_dataset = 0\n",
        "        self.data_list = []\n",
        "\n",
        "        data_tree = os.walk(dir_path)\n",
        "        for path_dir, dir_list, file_list in data_tree:\n",
        "            if path_dir == dir_path:\n",
        "                self.classes = dir_list\n",
        "                self.class_to_index = {\n",
        "                    class_name: i for i, class_name in enumerate(self.classes)\n",
        "                }\n",
        "                continue\n",
        "\n",
        "            current_class = path_dir.split('\\\\')[-1]\n",
        "\n",
        "            for name in file_list:\n",
        "                file_path = os.path.join(path_dir, name)\n",
        "                self.data_list.append((file_path, self.class_to_index[current_class]))\n",
        "            self.len_dataset += len(file_list)\n",
        "    def __len__(self):\n",
        "        return self.len_dataset\n",
        "    def __len__(self):\n",
        "        return self.len_dataset\n",
        "    def __getitem__(self, index):\n",
        "        file_path, target = self.data_list[index]\n",
        "        image = np.array(Image.open(file_path))\n",
        "        return image, target"
      ],
      "metadata": {
        "id": "RSGb8B9iMH-b"
      },
      "execution_count": 31,
      "outputs": []
    },
    {
      "cell_type": "code",
      "source": [
        "dataset_images = CustomImageDataset(\"data2/training\")\n",
        "dataloader_images = DataLoader(dataset=dataset_images, batch_size=64, shuffle=True)\n"
      ],
      "metadata": {
        "colab": {
          "base_uri": "https://localhost:8080/",
          "height": 280
        },
        "id": "V_V9TSevMYoy",
        "outputId": "bd16bbde-1217-4f16-fa29-a18455424353"
      },
      "execution_count": 32,
      "outputs": [
        {
          "output_type": "error",
          "ename": "KeyError",
          "evalue": "'data2/training/class5'",
          "traceback": [
            "\u001b[0;31m---------------------------------------------------------------------------\u001b[0m",
            "\u001b[0;31mKeyError\u001b[0m                                  Traceback (most recent call last)",
            "\u001b[0;32m<ipython-input-32-5ea37164bfb3>\u001b[0m in \u001b[0;36m<cell line: 1>\u001b[0;34m()\u001b[0m\n\u001b[0;32m----> 1\u001b[0;31m \u001b[0mdataset_images\u001b[0m \u001b[0;34m=\u001b[0m \u001b[0mCustomImageDataset\u001b[0m\u001b[0;34m(\u001b[0m\u001b[0;34m\"data2/training\"\u001b[0m\u001b[0;34m)\u001b[0m\u001b[0;34m\u001b[0m\u001b[0;34m\u001b[0m\u001b[0m\n\u001b[0m\u001b[1;32m      2\u001b[0m \u001b[0mdataloader_images\u001b[0m \u001b[0;34m=\u001b[0m \u001b[0mDataLoader\u001b[0m\u001b[0;34m(\u001b[0m\u001b[0mdataset\u001b[0m\u001b[0;34m=\u001b[0m\u001b[0mdataset_images\u001b[0m\u001b[0;34m,\u001b[0m \u001b[0mbatch_size\u001b[0m\u001b[0;34m=\u001b[0m\u001b[0;36m64\u001b[0m\u001b[0;34m,\u001b[0m \u001b[0mshuffle\u001b[0m\u001b[0;34m=\u001b[0m\u001b[0;32mTrue\u001b[0m\u001b[0;34m)\u001b[0m\u001b[0;34m\u001b[0m\u001b[0;34m\u001b[0m\u001b[0m\n",
            "\u001b[0;32m<ipython-input-31-b9521d5e9075>\u001b[0m in \u001b[0;36m__init__\u001b[0;34m(self, dir_path)\u001b[0m\n\u001b[1;32m     19\u001b[0m             \u001b[0;32mfor\u001b[0m \u001b[0mname\u001b[0m \u001b[0;32min\u001b[0m \u001b[0mfile_list\u001b[0m\u001b[0;34m:\u001b[0m\u001b[0;34m\u001b[0m\u001b[0;34m\u001b[0m\u001b[0m\n\u001b[1;32m     20\u001b[0m                 \u001b[0mfile_path\u001b[0m \u001b[0;34m=\u001b[0m \u001b[0mos\u001b[0m\u001b[0;34m.\u001b[0m\u001b[0mpath\u001b[0m\u001b[0;34m.\u001b[0m\u001b[0mjoin\u001b[0m\u001b[0;34m(\u001b[0m\u001b[0mpath_dir\u001b[0m\u001b[0;34m,\u001b[0m \u001b[0mname\u001b[0m\u001b[0;34m)\u001b[0m\u001b[0;34m\u001b[0m\u001b[0;34m\u001b[0m\u001b[0m\n\u001b[0;32m---> 21\u001b[0;31m                 \u001b[0mself\u001b[0m\u001b[0;34m.\u001b[0m\u001b[0mdata_list\u001b[0m\u001b[0;34m.\u001b[0m\u001b[0mappend\u001b[0m\u001b[0;34m(\u001b[0m\u001b[0;34m(\u001b[0m\u001b[0mfile_path\u001b[0m\u001b[0;34m,\u001b[0m \u001b[0mself\u001b[0m\u001b[0;34m.\u001b[0m\u001b[0mclass_to_index\u001b[0m\u001b[0;34m[\u001b[0m\u001b[0mcurrent_class\u001b[0m\u001b[0;34m]\u001b[0m\u001b[0;34m)\u001b[0m\u001b[0;34m)\u001b[0m\u001b[0;34m\u001b[0m\u001b[0;34m\u001b[0m\u001b[0m\n\u001b[0m\u001b[1;32m     22\u001b[0m             \u001b[0mself\u001b[0m\u001b[0;34m.\u001b[0m\u001b[0mlen_dataset\u001b[0m \u001b[0;34m+=\u001b[0m \u001b[0mlen\u001b[0m\u001b[0;34m(\u001b[0m\u001b[0mfile_list\u001b[0m\u001b[0;34m)\u001b[0m\u001b[0;34m\u001b[0m\u001b[0;34m\u001b[0m\u001b[0m\n\u001b[1;32m     23\u001b[0m     \u001b[0;32mdef\u001b[0m \u001b[0m__len__\u001b[0m\u001b[0;34m(\u001b[0m\u001b[0mself\u001b[0m\u001b[0;34m)\u001b[0m\u001b[0;34m:\u001b[0m\u001b[0;34m\u001b[0m\u001b[0;34m\u001b[0m\u001b[0m\n",
            "\u001b[0;31mKeyError\u001b[0m: 'data2/training/class5'"
          ]
        }
      ]
    },
    {
      "cell_type": "code",
      "source": [],
      "metadata": {
        "id": "WaMZ0h3e99w6"
      },
      "execution_count": null,
      "outputs": []
    }
  ]
}