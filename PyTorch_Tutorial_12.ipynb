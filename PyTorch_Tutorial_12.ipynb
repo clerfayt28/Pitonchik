{
  "nbformat": 4,
  "nbformat_minor": 0,
  "metadata": {
    "colab": {
      "provenance": [],
      "authorship_tag": "ABX9TyMlT8bZ2C/kFjBN9IPRUVa4",
      "include_colab_link": true
    },
    "kernelspec": {
      "name": "python3",
      "display_name": "Python 3"
    },
    "language_info": {
      "name": "python"
    }
  },
  "cells": [
    {
      "cell_type": "markdown",
      "metadata": {
        "id": "view-in-github",
        "colab_type": "text"
      },
      "source": [
        "<a href=\"https://colab.research.google.com/github/clerfayt28/Pitonchik/blob/main/PyTorch_Tutorial_12.ipynb\" target=\"_parent\"><img src=\"https://colab.research.google.com/assets/colab-badge.svg\" alt=\"Open In Colab\"/></a>"
      ]
    },
    {
      "cell_type": "code",
      "execution_count": 1,
      "metadata": {
        "id": "unbWX6Vqx3RZ"
      },
      "outputs": [],
      "source": [
        "import torch\n",
        "import torch.nn as nn\n",
        "import numpy as np"
      ]
    },
    {
      "cell_type": "code",
      "source": [
        "#option 1 (create nn models)\n",
        "class NeuralNet (nn.Module):\n",
        "  def __init__ (self, input_size, hidden_size):\n",
        "    super (NeuralNet, self).__init__()\n",
        "    self.linear1 = nn.Linear (input_size, hidden_size)\n",
        "    self.relu = nn.ReLU ()\n",
        "    self.linear2 = nn.Linear (hidden_size, 1)\n",
        "    self.sigmoid = nn.Sigmoid\n",
        "\n",
        "  def forward (self, x):\n",
        "    out = self.linear1 (x)\n",
        "    out = self.relu (out)\n",
        "    out = self.linear2 (out)\n",
        "    out = self.sigmoid (out)\n",
        "\n",
        "    return (out)"
      ],
      "metadata": {
        "id": "sWES_t11J9kG"
      },
      "execution_count": 2,
      "outputs": []
    },
    {
      "cell_type": "code",
      "source": [
        "#option 2 (use activation functions directly in forward pass)\n",
        "class NeuralNet (nn.Module):\n",
        "  def __init__ (self, input_size, hidden_size):\n",
        "    super (NeuralNet, self).__init__()\n",
        "    self.linear1 = nn.Linear (input_size, hidden_size)\n",
        "    self.linear2 = nn.Linear (hidden_size, 1)\n",
        "\n",
        "    def forward (self, x):\n",
        "      out = torch.relu (self.linear1 (x))\n",
        "      out = torch.sigmoid (self.linear2 (out))\n",
        "\n",
        "      return (out)"
      ],
      "metadata": {
        "id": "ANYX2x7cMb7W"
      },
      "execution_count": 3,
      "outputs": []
    }
  ]
}