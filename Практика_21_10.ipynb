{
  "nbformat": 4,
  "nbformat_minor": 0,
  "metadata": {
    "colab": {
      "provenance": [],
      "authorship_tag": "ABX9TyMzjUoxFEi7FGeWGH9rjytV",
      "include_colab_link": true
    },
    "kernelspec": {
      "name": "python3",
      "display_name": "Python 3"
    },
    "language_info": {
      "name": "python"
    }
  },
  "cells": [
    {
      "cell_type": "markdown",
      "metadata": {
        "id": "view-in-github",
        "colab_type": "text"
      },
      "source": [
        "<a href=\"https://colab.research.google.com/github/clerfayt28/Pitonchik/blob/main/%D0%9F%D1%80%D0%B0%D0%BA%D1%82%D0%B8%D0%BA%D0%B0_21_10.ipynb\" target=\"_parent\"><img src=\"https://colab.research.google.com/assets/colab-badge.svg\" alt=\"Open In Colab\"/></a>"
      ]
    },
    {
      "cell_type": "code",
      "execution_count": 29,
      "metadata": {
        "id": "y5llrAbMyKmX"
      },
      "outputs": [],
      "source": [
        "import torch\n",
        "import torch.nn as nn\n",
        "import numpy as np\n",
        "from sklearn import datasets\n",
        "from sklearn.preprocessing import StandardScaler\n",
        "from sklearn.model_selection import train_test_split"
      ]
    },
    {
      "cell_type": "markdown",
      "source": [
        "# 0) Prepare data"
      ],
      "metadata": {
        "id": "xPLq9Z-HzbJb"
      }
    },
    {
      "cell_type": "code",
      "source": [
        "bc = datasets.load_breast_cancer ()\n",
        "X, y = bc.data, bc.target\n",
        "\n",
        "n_samples, n_features = X.shape\n",
        "\n",
        "X_train, X_test, y_train, y_test = train_test_split (X, y, test_size = 0.2, random_state = 1234)\n"
      ],
      "metadata": {
        "id": "qMS1jPhSysVs"
      },
      "execution_count": 30,
      "outputs": []
    },
    {
      "cell_type": "markdown",
      "source": [
        "#Scale"
      ],
      "metadata": {
        "id": "Rjr9I4EZ1b9c"
      }
    },
    {
      "cell_type": "code",
      "source": [
        "sc = StandardScaler ()\n",
        "X_train = sc.fit_transform (X_train)\n",
        "X_test = sc.transform (X_test)\n",
        "\n",
        "X_train = torch.from_numpy (X_train.astype (np.float32))\n",
        "X_test = torch.from_numpy (X_test.astype (np.float32))\n",
        "y_train = torch.from_numpy (y_train.astype (np.float32))\n",
        "y_test = torch.from_numpy (y_test.astype (np.float32))\n",
        "\n",
        "y_train = y_train.view (y_train.shape [0], 1)\n",
        "y_test = y_test.view (y_test.shape [0], 1)"
      ],
      "metadata": {
        "id": "a2uJijUH1d5K"
      },
      "execution_count": 31,
      "outputs": []
    },
    {
      "cell_type": "markdown",
      "source": [
        "# 1) Model"
      ],
      "metadata": {
        "id": "Ek7_LU6S3wFb"
      }
    },
    {
      "cell_type": "markdown",
      "source": [
        "f = wx+b, sigmoid at the end"
      ],
      "metadata": {
        "id": "Y_pUQvKb3zyo"
      }
    },
    {
      "cell_type": "code",
      "source": [
        "class LogisticRegression (nn.Module):\n",
        "  def __init__ (self, n_input_features):\n",
        "    super (LogisticRegression, self).__init__()\n",
        "    self.linear = nn.Linear (n_input_features, 1)\n",
        "\n",
        "  def forward (self, X):\n",
        "    y_predicted = torch.sigmoid (self.linear (X))\n",
        "    return y_predicted\n",
        "\n",
        "model = LogisticRegression (n_features)"
      ],
      "metadata": {
        "id": "l4FMSem63-cn"
      },
      "execution_count": 32,
      "outputs": []
    },
    {
      "cell_type": "markdown",
      "source": [
        "# 2) Loss and optimizer"
      ],
      "metadata": {
        "id": "qh_XFTJKA32y"
      }
    },
    {
      "cell_type": "code",
      "source": [
        "learning_rate = 0.01\n",
        "criterion = nn. BCELoss ()\n",
        "optimizer = torch.optim.SGD (model.parameters (), lr = learning_rate)"
      ],
      "metadata": {
        "id": "VZfNXEG3A8Hl"
      },
      "execution_count": 33,
      "outputs": []
    },
    {
      "cell_type": "markdown",
      "source": [
        "# 3) Training loop"
      ],
      "metadata": {
        "id": "bwTcI2G9B5D4"
      }
    },
    {
      "cell_type": "code",
      "source": [
        "num_epochs = 100\n",
        "for epoch in range (num_epochs):\n",
        "  #forward pass and loss\n",
        "  y_predicted = model (X_train)\n",
        "  loss = criterion (y_predicted, y_train)\n",
        "\n",
        "  #backward pass\n",
        "  loss.backward ()\n",
        "\n",
        "  #updates\n",
        "  optimizer.step ()\n",
        "\n",
        "  #zero gradients\n",
        "  optimizer.zero_grad ()\n",
        "\n",
        "  if (epoch+1) % 10 == 0:\n",
        "    print (f'epoch: {epoch+1}, loss = {loss.item ():.4f}')\n",
        "\n"
      ],
      "metadata": {
        "colab": {
          "base_uri": "https://localhost:8080/"
        },
        "id": "EiJ68M-1B8vH",
        "outputId": "f3645098-4419-4c54-c208-a3d2a937a5e3"
      },
      "execution_count": 36,
      "outputs": [
        {
          "output_type": "stream",
          "name": "stdout",
          "text": [
            "epoch: 10, loss = 0.4011\n",
            "epoch: 20, loss = 0.3589\n",
            "epoch: 30, loss = 0.3276\n",
            "epoch: 40, loss = 0.3033\n",
            "epoch: 50, loss = 0.2838\n",
            "epoch: 60, loss = 0.2677\n",
            "epoch: 70, loss = 0.2541\n",
            "epoch: 80, loss = 0.2424\n",
            "epoch: 90, loss = 0.2322\n",
            "epoch: 100, loss = 0.2232\n"
          ]
        }
      ]
    },
    {
      "cell_type": "code",
      "source": [
        "with torch.no_grad ():\n",
        "  y_predicted = model (X_test)\n",
        "  y_predicted_cls = y_predicted.round ()\n",
        "  acc = y_predicted_cls.eq (y_test).sum () / float (y_test.shape [0])\n",
        "  print (f'accuracy = {acc:.4f}')"
      ],
      "metadata": {
        "colab": {
          "base_uri": "https://localhost:8080/"
        },
        "id": "lqqQx4TFFdjE",
        "outputId": "469fa715-d266-49a3-a110-32ec0e226ca8"
      },
      "execution_count": 38,
      "outputs": [
        {
          "output_type": "stream",
          "name": "stdout",
          "text": [
            "accuracy = 0.9035\n"
          ]
        }
      ]
    }
  ]
}