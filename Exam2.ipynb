{
  "nbformat": 4,
  "nbformat_minor": 0,
  "metadata": {
    "colab": {
      "provenance": [],
      "authorship_tag": "ABX9TyP/DeodI5VVJu/hwgLuYGGl",
      "include_colab_link": true
    },
    "kernelspec": {
      "name": "python3",
      "display_name": "Python 3"
    },
    "language_info": {
      "name": "python"
    }
  },
  "cells": [
    {
      "cell_type": "markdown",
      "metadata": {
        "id": "view-in-github",
        "colab_type": "text"
      },
      "source": [
        "<a href=\"https://colab.research.google.com/github/clerfayt28/Pitonchik/blob/main/Exam2.ipynb\" target=\"_parent\"><img src=\"https://colab.research.google.com/assets/colab-badge.svg\" alt=\"Open In Colab\"/></a>"
      ]
    },
    {
      "cell_type": "code",
      "execution_count": 1,
      "metadata": {
        "id": "ZUgkV4OJJb3a"
      },
      "outputs": [],
      "source": [
        "from torch.utils.data import Dataset, DataLoader\n",
        "import torchvision\n",
        "import torchvision.transforms as transforms\n",
        "import numpy as np\n",
        "from PIL import Image"
      ]
    },
    {
      "cell_type": "code",
      "source": [
        "class CustomImageDataset(Dataset):\n",
        "    def __init__(self, file_path):\n",
        "        raw_data = np.loadtxt(file_path, delimiter=',', dtype=list, skiprows=1)\n",
        "        transformed_labels = raw_data[:, 1].astype(np.float32)\n",
        "        self.file_paths = raw_data[:, 0]\n",
        "        self.labels = transformed_labels\n",
        "        print(self.file_paths)\n",
        "        print (self.labels)\n",
        "    def __len__(self):\n",
        "        return len(self.file_paths)\n",
        "    def __getitem__(self, index):\n",
        "        image = Image.open(self.file_paths[index])\n",
        "        image = transforms.ToTensor()(image)\n",
        "        label = self.labels[index]\n",
        "        return image, label"
      ],
      "metadata": {
        "id": "nmZZh1fhKK4R"
      },
      "execution_count": 2,
      "outputs": []
    },
    {
      "cell_type": "code",
      "source": [
        "dataset_images = CustomImageDataset(\"table.csv\")\n",
        "\n",
        "dataloader_images = DataLoader(dataset=dataset_images, batch_size=32, shuffle=True, num_workers=4)"
      ],
      "metadata": {
        "colab": {
          "base_uri": "https://localhost:8080/"
        },
        "id": "aA5ZzKkXKRSc",
        "outputId": "8f8d9509-cb66-4185-c113-f2576a92701a"
      },
      "execution_count": 5,
      "outputs": [
        {
          "output_type": "stream",
          "name": "stdout",
          "text": [
            "['data' 'data' 'data' 'data' 'data']\n",
            "[123. 123. 123. 123. 123.]\n"
          ]
        },
        {
          "output_type": "stream",
          "name": "stderr",
          "text": [
            "/usr/local/lib/python3.10/dist-packages/torch/utils/data/dataloader.py:558: UserWarning: This DataLoader will create 4 worker processes in total. Our suggested max number of worker in current system is 2, which is smaller than what this DataLoader is going to create. Please be aware that excessive worker creation might get DataLoader running slow or even freeze, lower the worker number to avoid potential slowness/freeze if necessary.\n",
            "  warnings.warn(_create_warning_msg(\n"
          ]
        }
      ]
    }
  ]
}