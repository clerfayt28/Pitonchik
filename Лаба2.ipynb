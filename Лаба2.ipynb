{
  "nbformat": 4,
  "nbformat_minor": 0,
  "metadata": {
    "colab": {
      "provenance": [],
      "authorship_tag": "ABX9TyPfg5SeLfaqP56edNwrEgzn",
      "include_colab_link": true
    },
    "kernelspec": {
      "name": "python3",
      "display_name": "Python 3"
    },
    "language_info": {
      "name": "python"
    }
  },
  "cells": [
    {
      "cell_type": "markdown",
      "metadata": {
        "id": "view-in-github",
        "colab_type": "text"
      },
      "source": [
        "<a href=\"https://colab.research.google.com/github/clerfayt28/Pitonchik/blob/main/%D0%9B%D0%B0%D0%B1%D0%B02.ipynb\" target=\"_parent\"><img src=\"https://colab.research.google.com/assets/colab-badge.svg\" alt=\"Open In Colab\"/></a>"
      ]
    },
    {
      "cell_type": "code",
      "execution_count": 8,
      "metadata": {
        "id": "g9sJJjXx77BA"
      },
      "outputs": [],
      "source": [
        "import numpy as np\n",
        "import numpy.linalg as lina\n",
        "import matplotlib.pyplot as plt\n",
        "from matplotlib import cm\n",
        "from mpl_toolkits.mplot3d import Axes3D\n",
        "import pandas as pd"
      ]
    },
    {
      "cell_type": "code",
      "source": [
        "N1 = 5\n",
        "N2 = 5\n",
        "L1 = 1\n",
        "L2 = 1\n",
        "X1 = np.linspace(0,L1,N1)\n",
        "X2 = np.linspace(0,L2,N2)\n",
        "Tbot = np.zeros((1,N1))\n",
        "Ttop = np.zeros((N2,1))\n",
        "Ta, Tb, Tc = 200, 300, 400\n",
        "a = 1/((X1[1]-X1[0])**2)\n",
        "b = 1/((X2[1]-X2[0])**2)\n",
        "c = -2*(a+b)"
      ],
      "metadata": {
        "id": "PX-PjU8U1-Jn"
      },
      "execution_count": 9,
      "outputs": []
    },
    {
      "cell_type": "code",
      "source": [
        "K = np.zeros(((N1-1)*(N2-1),(N1-1)*(N2-1)))\n",
        "T = np.zeros(((N1),(N2)))\n",
        "P = np.zeros(((N1-1)*(N2-1),1))\n",
        "K.shape\n",
        "\n",
        "for j in range (N2-1):\n",
        "  for i in range (N1-1):\n",
        "    K[i+j*(N1-1),i+j*(N2-1)] = c\n",
        "    if i != N2-2:\n",
        "      K[i+1+j*(N1-1),i+j*(N2-1)] = a\n",
        "    if j != N2-2:\n",
        "      K[i-1+j*(N1-1),i+j*(N2-1)] = a\n",
        "      K[i+j*(N1-1),i+(j+1)*(N2-1)] = b\n",
        "    if i == (N1-2):\n",
        "      K[i+j*(N1-1),i+j*(N2-1)] = c+a\n",
        "  if j == (N2-2):\n",
        "    for i in range (N1-1):\n",
        "      K[i+j*(N1-1),i+j*(N2-1)] = c+b\n",
        "    if i == (N1-2):\n",
        "      K[i+j*(N1-1),i+j*(N2-1)] = c+b+a"
      ],
      "metadata": {
        "id": "L1wa6zQl2EYh"
      },
      "execution_count": 10,
      "outputs": []
    },
    {
      "cell_type": "markdown",
      "source": [
        "#K"
      ],
      "metadata": {
        "id": "q7p0Pxdr2rU2"
      }
    },
    {
      "cell_type": "code",
      "source": [
        "for i in range (N1):\n",
        "  Tbot[0,i] = (Tc-Ta)/L2*X2[i]+Ta"
      ],
      "metadata": {
        "id": "OCUBY4tN2qYl"
      },
      "execution_count": 11,
      "outputs": []
    },
    {
      "cell_type": "markdown",
      "source": [
        "#-a*Tbot"
      ],
      "metadata": {
        "id": "vO4FSjqj3KPS"
      }
    },
    {
      "cell_type": "code",
      "source": [
        "for i in range (N2):\n",
        "  Ttop[i,0] = (Tb-Ta)/L1*X1[i]+Ta"
      ],
      "metadata": {
        "id": "uflulLoP3J2D"
      },
      "execution_count": 12,
      "outputs": []
    },
    {
      "cell_type": "markdown",
      "source": [
        "#Ttop"
      ],
      "metadata": {
        "id": "xuDPNo2F3PpC"
      }
    },
    {
      "cell_type": "code",
      "source": [
        "for j in range (N2-1):\n",
        "  for i in range (N1-1):\n",
        "    if i == 0:\n",
        "      P[i+j*(N1-1),0] = -a*Tbot[0,j]\n",
        "    if j == 0:\n",
        "      P[0,0] = -a*Tbot[0,i]-b*Ttop[i]\n",
        "      P[i+1+j*(N1-1),0] = -b*Ttop[i,0]"
      ],
      "metadata": {
        "id": "lbPADdhn3QBe"
      },
      "execution_count": 13,
      "outputs": []
    },
    {
      "cell_type": "markdown",
      "source": [
        "#P"
      ],
      "metadata": {
        "id": "qF85fBJC2zI6"
      }
    },
    {
      "cell_type": "code",
      "source": [
        "T = lina.solve(K, P)"
      ],
      "metadata": {
        "id": "D2FfQALY2yX8"
      },
      "execution_count": 14,
      "outputs": []
    },
    {
      "cell_type": "markdown",
      "source": [
        "#T"
      ],
      "metadata": {
        "id": "RE7dltOR3fgr"
      }
    },
    {
      "cell_type": "code",
      "source": [
        "T = np.reshape(T,(N1-1,N2-1))\n",
        "\n",
        "Ttop = Ttop[::-1]\n",
        "Ttop = Ttop[0:N2-1]\n",
        "Ttop.shape\n",
        "\n",
        "T = np.concatenate((Ttop, T), axis=1)\n",
        "\n",
        "T = np.concatenate((T, Tbot), axis=0)\n",
        "\n",
        "np.reshape(T[0,:N1],(1,T[0,:N1].shape[0]))\n",
        "T = np.concatenate((np.reshape(T[0,:N1],(1,T[0,:N1].shape[0])), T), axis=0)\n",
        "np.reshape(T[:,T.shape[1]-1],(N2+1,1))\n",
        "T = np.concatenate((T, np.reshape(T[:,T.shape[1]-1],(N2+1,1))), axis=1)"
      ],
      "metadata": {
        "id": "mPGqDhhE3iKI"
      },
      "execution_count": 15,
      "outputs": []
    },
    {
      "cell_type": "code",
      "source": [
        "X1 = np.linspace(0,L1,N1+1)\n",
        "X2 = np.linspace(0,L2,N2+1)"
      ],
      "metadata": {
        "id": "IWSxTAMB3lQd"
      },
      "execution_count": 16,
      "outputs": []
    },
    {
      "cell_type": "code",
      "source": [
        "fig = plt.figure()\n",
        "ax = fig.add_subplot(111, projection='3d')\n",
        "ax.plot_surface(X1, X2, T, cmap=cm.jet, linewidth=1, vmin = 0, vmax = 1000)\n",
        "ax.set_xlabel('X1')\n",
        "ax.set_ylabel('Y2')\n",
        "ax.set_zlabel('Temp')\n",
        "fig.tight_layout()\n",
        "\n",
        "pd.DataFrame(data=T)"
      ],
      "metadata": {
        "colab": {
          "base_uri": "https://localhost:8080/",
          "height": 711
        },
        "id": "MISOxwf63oBX",
        "outputId": "f689a7e5-3668-4c4d-cdd3-1dec542a523e"
      },
      "execution_count": 17,
      "outputs": [
        {
          "output_type": "execute_result",
          "data": {
            "text/plain": [
              "       0           1           2           3           4           5\n",
              "0  300.0  220.507581  154.258052  150.904388  189.859587  189.859587\n",
              "1  300.0  220.507581  154.258052  150.904388  189.859587  189.859587\n",
              "2  275.0  102.772274   45.620238   34.499913   65.902100   65.902100\n",
              "3  250.0  115.468858   45.208765   26.477314   47.737529   47.737529\n",
              "4  225.0  116.666667   38.888889   12.962963  116.735272  116.735272\n",
              "5  200.0  250.000000  300.000000  350.000000  400.000000  400.000000"
            ],
            "text/html": [
              "\n",
              "  <div id=\"df-1e75a9da-aed8-4b45-aa50-b019db11cf76\" class=\"colab-df-container\">\n",
              "    <div>\n",
              "<style scoped>\n",
              "    .dataframe tbody tr th:only-of-type {\n",
              "        vertical-align: middle;\n",
              "    }\n",
              "\n",
              "    .dataframe tbody tr th {\n",
              "        vertical-align: top;\n",
              "    }\n",
              "\n",
              "    .dataframe thead th {\n",
              "        text-align: right;\n",
              "    }\n",
              "</style>\n",
              "<table border=\"1\" class=\"dataframe\">\n",
              "  <thead>\n",
              "    <tr style=\"text-align: right;\">\n",
              "      <th></th>\n",
              "      <th>0</th>\n",
              "      <th>1</th>\n",
              "      <th>2</th>\n",
              "      <th>3</th>\n",
              "      <th>4</th>\n",
              "      <th>5</th>\n",
              "    </tr>\n",
              "  </thead>\n",
              "  <tbody>\n",
              "    <tr>\n",
              "      <th>0</th>\n",
              "      <td>300.0</td>\n",
              "      <td>220.507581</td>\n",
              "      <td>154.258052</td>\n",
              "      <td>150.904388</td>\n",
              "      <td>189.859587</td>\n",
              "      <td>189.859587</td>\n",
              "    </tr>\n",
              "    <tr>\n",
              "      <th>1</th>\n",
              "      <td>300.0</td>\n",
              "      <td>220.507581</td>\n",
              "      <td>154.258052</td>\n",
              "      <td>150.904388</td>\n",
              "      <td>189.859587</td>\n",
              "      <td>189.859587</td>\n",
              "    </tr>\n",
              "    <tr>\n",
              "      <th>2</th>\n",
              "      <td>275.0</td>\n",
              "      <td>102.772274</td>\n",
              "      <td>45.620238</td>\n",
              "      <td>34.499913</td>\n",
              "      <td>65.902100</td>\n",
              "      <td>65.902100</td>\n",
              "    </tr>\n",
              "    <tr>\n",
              "      <th>3</th>\n",
              "      <td>250.0</td>\n",
              "      <td>115.468858</td>\n",
              "      <td>45.208765</td>\n",
              "      <td>26.477314</td>\n",
              "      <td>47.737529</td>\n",
              "      <td>47.737529</td>\n",
              "    </tr>\n",
              "    <tr>\n",
              "      <th>4</th>\n",
              "      <td>225.0</td>\n",
              "      <td>116.666667</td>\n",
              "      <td>38.888889</td>\n",
              "      <td>12.962963</td>\n",
              "      <td>116.735272</td>\n",
              "      <td>116.735272</td>\n",
              "    </tr>\n",
              "    <tr>\n",
              "      <th>5</th>\n",
              "      <td>200.0</td>\n",
              "      <td>250.000000</td>\n",
              "      <td>300.000000</td>\n",
              "      <td>350.000000</td>\n",
              "      <td>400.000000</td>\n",
              "      <td>400.000000</td>\n",
              "    </tr>\n",
              "  </tbody>\n",
              "</table>\n",
              "</div>\n",
              "    <div class=\"colab-df-buttons\">\n",
              "\n",
              "  <div class=\"colab-df-container\">\n",
              "    <button class=\"colab-df-convert\" onclick=\"convertToInteractive('df-1e75a9da-aed8-4b45-aa50-b019db11cf76')\"\n",
              "            title=\"Convert this dataframe to an interactive table.\"\n",
              "            style=\"display:none;\">\n",
              "\n",
              "  <svg xmlns=\"http://www.w3.org/2000/svg\" height=\"24px\" viewBox=\"0 -960 960 960\">\n",
              "    <path d=\"M120-120v-720h720v720H120Zm60-500h600v-160H180v160Zm220 220h160v-160H400v160Zm0 220h160v-160H400v160ZM180-400h160v-160H180v160Zm440 0h160v-160H620v160ZM180-180h160v-160H180v160Zm440 0h160v-160H620v160Z\"/>\n",
              "  </svg>\n",
              "    </button>\n",
              "\n",
              "  <style>\n",
              "    .colab-df-container {\n",
              "      display:flex;\n",
              "      gap: 12px;\n",
              "    }\n",
              "\n",
              "    .colab-df-convert {\n",
              "      background-color: #E8F0FE;\n",
              "      border: none;\n",
              "      border-radius: 50%;\n",
              "      cursor: pointer;\n",
              "      display: none;\n",
              "      fill: #1967D2;\n",
              "      height: 32px;\n",
              "      padding: 0 0 0 0;\n",
              "      width: 32px;\n",
              "    }\n",
              "\n",
              "    .colab-df-convert:hover {\n",
              "      background-color: #E2EBFA;\n",
              "      box-shadow: 0px 1px 2px rgba(60, 64, 67, 0.3), 0px 1px 3px 1px rgba(60, 64, 67, 0.15);\n",
              "      fill: #174EA6;\n",
              "    }\n",
              "\n",
              "    .colab-df-buttons div {\n",
              "      margin-bottom: 4px;\n",
              "    }\n",
              "\n",
              "    [theme=dark] .colab-df-convert {\n",
              "      background-color: #3B4455;\n",
              "      fill: #D2E3FC;\n",
              "    }\n",
              "\n",
              "    [theme=dark] .colab-df-convert:hover {\n",
              "      background-color: #434B5C;\n",
              "      box-shadow: 0px 1px 3px 1px rgba(0, 0, 0, 0.15);\n",
              "      filter: drop-shadow(0px 1px 2px rgba(0, 0, 0, 0.3));\n",
              "      fill: #FFFFFF;\n",
              "    }\n",
              "  </style>\n",
              "\n",
              "    <script>\n",
              "      const buttonEl =\n",
              "        document.querySelector('#df-1e75a9da-aed8-4b45-aa50-b019db11cf76 button.colab-df-convert');\n",
              "      buttonEl.style.display =\n",
              "        google.colab.kernel.accessAllowed ? 'block' : 'none';\n",
              "\n",
              "      async function convertToInteractive(key) {\n",
              "        const element = document.querySelector('#df-1e75a9da-aed8-4b45-aa50-b019db11cf76');\n",
              "        const dataTable =\n",
              "          await google.colab.kernel.invokeFunction('convertToInteractive',\n",
              "                                                    [key], {});\n",
              "        if (!dataTable) return;\n",
              "\n",
              "        const docLinkHtml = 'Like what you see? Visit the ' +\n",
              "          '<a target=\"_blank\" href=https://colab.research.google.com/notebooks/data_table.ipynb>data table notebook</a>'\n",
              "          + ' to learn more about interactive tables.';\n",
              "        element.innerHTML = '';\n",
              "        dataTable['output_type'] = 'display_data';\n",
              "        await google.colab.output.renderOutput(dataTable, element);\n",
              "        const docLink = document.createElement('div');\n",
              "        docLink.innerHTML = docLinkHtml;\n",
              "        element.appendChild(docLink);\n",
              "      }\n",
              "    </script>\n",
              "  </div>\n",
              "\n",
              "\n",
              "<div id=\"df-808f9313-4a2f-45a0-a379-bb68a86a4b27\">\n",
              "  <button class=\"colab-df-quickchart\" onclick=\"quickchart('df-808f9313-4a2f-45a0-a379-bb68a86a4b27')\"\n",
              "            title=\"Suggest charts.\"\n",
              "            style=\"display:none;\">\n",
              "\n",
              "<svg xmlns=\"http://www.w3.org/2000/svg\" height=\"24px\"viewBox=\"0 0 24 24\"\n",
              "     width=\"24px\">\n",
              "    <g>\n",
              "        <path d=\"M19 3H5c-1.1 0-2 .9-2 2v14c0 1.1.9 2 2 2h14c1.1 0 2-.9 2-2V5c0-1.1-.9-2-2-2zM9 17H7v-7h2v7zm4 0h-2V7h2v10zm4 0h-2v-4h2v4z\"/>\n",
              "    </g>\n",
              "</svg>\n",
              "  </button>\n",
              "\n",
              "<style>\n",
              "  .colab-df-quickchart {\n",
              "      --bg-color: #E8F0FE;\n",
              "      --fill-color: #1967D2;\n",
              "      --hover-bg-color: #E2EBFA;\n",
              "      --hover-fill-color: #174EA6;\n",
              "      --disabled-fill-color: #AAA;\n",
              "      --disabled-bg-color: #DDD;\n",
              "  }\n",
              "\n",
              "  [theme=dark] .colab-df-quickchart {\n",
              "      --bg-color: #3B4455;\n",
              "      --fill-color: #D2E3FC;\n",
              "      --hover-bg-color: #434B5C;\n",
              "      --hover-fill-color: #FFFFFF;\n",
              "      --disabled-bg-color: #3B4455;\n",
              "      --disabled-fill-color: #666;\n",
              "  }\n",
              "\n",
              "  .colab-df-quickchart {\n",
              "    background-color: var(--bg-color);\n",
              "    border: none;\n",
              "    border-radius: 50%;\n",
              "    cursor: pointer;\n",
              "    display: none;\n",
              "    fill: var(--fill-color);\n",
              "    height: 32px;\n",
              "    padding: 0;\n",
              "    width: 32px;\n",
              "  }\n",
              "\n",
              "  .colab-df-quickchart:hover {\n",
              "    background-color: var(--hover-bg-color);\n",
              "    box-shadow: 0 1px 2px rgba(60, 64, 67, 0.3), 0 1px 3px 1px rgba(60, 64, 67, 0.15);\n",
              "    fill: var(--button-hover-fill-color);\n",
              "  }\n",
              "\n",
              "  .colab-df-quickchart-complete:disabled,\n",
              "  .colab-df-quickchart-complete:disabled:hover {\n",
              "    background-color: var(--disabled-bg-color);\n",
              "    fill: var(--disabled-fill-color);\n",
              "    box-shadow: none;\n",
              "  }\n",
              "\n",
              "  .colab-df-spinner {\n",
              "    border: 2px solid var(--fill-color);\n",
              "    border-color: transparent;\n",
              "    border-bottom-color: var(--fill-color);\n",
              "    animation:\n",
              "      spin 1s steps(1) infinite;\n",
              "  }\n",
              "\n",
              "  @keyframes spin {\n",
              "    0% {\n",
              "      border-color: transparent;\n",
              "      border-bottom-color: var(--fill-color);\n",
              "      border-left-color: var(--fill-color);\n",
              "    }\n",
              "    20% {\n",
              "      border-color: transparent;\n",
              "      border-left-color: var(--fill-color);\n",
              "      border-top-color: var(--fill-color);\n",
              "    }\n",
              "    30% {\n",
              "      border-color: transparent;\n",
              "      border-left-color: var(--fill-color);\n",
              "      border-top-color: var(--fill-color);\n",
              "      border-right-color: var(--fill-color);\n",
              "    }\n",
              "    40% {\n",
              "      border-color: transparent;\n",
              "      border-right-color: var(--fill-color);\n",
              "      border-top-color: var(--fill-color);\n",
              "    }\n",
              "    60% {\n",
              "      border-color: transparent;\n",
              "      border-right-color: var(--fill-color);\n",
              "    }\n",
              "    80% {\n",
              "      border-color: transparent;\n",
              "      border-right-color: var(--fill-color);\n",
              "      border-bottom-color: var(--fill-color);\n",
              "    }\n",
              "    90% {\n",
              "      border-color: transparent;\n",
              "      border-bottom-color: var(--fill-color);\n",
              "    }\n",
              "  }\n",
              "</style>\n",
              "\n",
              "  <script>\n",
              "    async function quickchart(key) {\n",
              "      const quickchartButtonEl =\n",
              "        document.querySelector('#' + key + ' button');\n",
              "      quickchartButtonEl.disabled = true;  // To prevent multiple clicks.\n",
              "      quickchartButtonEl.classList.add('colab-df-spinner');\n",
              "      try {\n",
              "        const charts = await google.colab.kernel.invokeFunction(\n",
              "            'suggestCharts', [key], {});\n",
              "      } catch (error) {\n",
              "        console.error('Error during call to suggestCharts:', error);\n",
              "      }\n",
              "      quickchartButtonEl.classList.remove('colab-df-spinner');\n",
              "      quickchartButtonEl.classList.add('colab-df-quickchart-complete');\n",
              "    }\n",
              "    (() => {\n",
              "      let quickchartButtonEl =\n",
              "        document.querySelector('#df-808f9313-4a2f-45a0-a379-bb68a86a4b27 button');\n",
              "      quickchartButtonEl.style.display =\n",
              "        google.colab.kernel.accessAllowed ? 'block' : 'none';\n",
              "    })();\n",
              "  </script>\n",
              "</div>\n",
              "    </div>\n",
              "  </div>\n"
            ]
          },
          "metadata": {},
          "execution_count": 17
        },
        {
          "output_type": "display_data",
          "data": {
            "text/plain": [
              "<Figure size 640x480 with 1 Axes>"
            ],
            "image/png": "[encoded data removed]"
          },
          "metadata": {}
        }
      ]
    }
  ]
}