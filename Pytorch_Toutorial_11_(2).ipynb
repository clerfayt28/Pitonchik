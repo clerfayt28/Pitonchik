{
  "nbformat": 4,
  "nbformat_minor": 0,
  "metadata": {
    "colab": {
      "provenance": [],
      "authorship_tag": "ABX9TyP9o7ZkYiyep6KxOcQayuJi",
      "include_colab_link": true
    },
    "kernelspec": {
      "name": "python3",
      "display_name": "Python 3"
    },
    "language_info": {
      "name": "python"
    }
  },
  "cells": [
    {
      "cell_type": "markdown",
      "metadata": {
        "id": "view-in-github",
        "colab_type": "text"
      },
      "source": [
        "<a href=\"https://colab.research.google.com/github/clerfayt28/Pitonchik/blob/main/Pytorch_Toutorial_11_(2).ipynb\" target=\"_parent\"><img src=\"https://colab.research.google.com/assets/colab-badge.svg\" alt=\"Open In Colab\"/></a>"
      ]
    },
    {
      "cell_type": "code",
      "execution_count": null,
      "metadata": {
        "id": "xBqyDRqaK6sT"
      },
      "outputs": [],
      "source": [
        "import torch\n",
        "import torch.nn as nn\n",
        "import numpy as np"
      ]
    },
    {
      "cell_type": "code",
      "source": [
        "def cross_entropy (actual, predicted):\n",
        "  loss = -np.sum (actual * np.log (predicted))\n",
        "  return loss # /float (predicted.shape [0])"
      ],
      "metadata": {
        "id": "pfmeasLuLJM6"
      },
      "execution_count": null,
      "outputs": []
    },
    {
      "cell_type": "code",
      "source": [
        "# y must be one hot encoded\n",
        "#if class 0: [1 0 0]\n",
        "#if class 1: [0 1 0]\n",
        "#if class 0: [0 0 1]\n",
        "Y = np.array ([1,0,0])"
      ],
      "metadata": {
        "id": "XLoorkkVMXWm"
      },
      "execution_count": null,
      "outputs": []
    },
    {
      "cell_type": "code",
      "source": [
        "# y_pred has probabilities\n",
        "Y_pred_good = np.array ([0.7, 0.2, 0.1])\n",
        "Y_pred_bad = np.array ([0.1, 0.3, 0.6])\n",
        "l1 = cross_entropy (Y, Y_pred_good)\n",
        "l2 = cross_entropy (Y, Y_pred_bad)\n",
        "print (f'Loss1 numpy: {l1:.4f}')\n",
        "print (f'Loss2 numpy: {l2:.4f}')"
      ],
      "metadata": {
        "colab": {
          "base_uri": "https://localhost:8080/"
        },
        "id": "P5flfzWAMzkj",
        "outputId": "89ca25d6-cd57-46ee-c5e3-d53ef1b468fd"
      },
      "execution_count": null,
      "outputs": [
        {
          "output_type": "stream",
          "name": "stdout",
          "text": [
            "Loss1 numpy: 0.3567\n",
            "Loss2 numpy: 2.3026\n"
          ]
        }
      ]
    }
  ]
}