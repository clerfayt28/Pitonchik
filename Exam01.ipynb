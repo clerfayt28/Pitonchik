{
  "nbformat": 4,
  "nbformat_minor": 0,
  "metadata": {
    "colab": {
      "provenance": [],
      "authorship_tag": "ABX9TyPUt7iOIUKBNMiZKZ16hDW8",
      "include_colab_link": true
    },
    "kernelspec": {
      "name": "python3",
      "display_name": "Python 3"
    },
    "language_info": {
      "name": "python"
    }
  },
  "cells": [
    {
      "cell_type": "markdown",
      "metadata": {
        "id": "view-in-github",
        "colab_type": "text"
      },
      "source": [
        "<a href=\"https://colab.research.google.com/github/clerfayt28/Pitonchik/blob/main/Exam01.ipynb\" target=\"_parent\"><img src=\"https://colab.research.google.com/assets/colab-badge.svg\" alt=\"Open In Colab\"/></a>"
      ]
    },
    {
      "cell_type": "code",
      "execution_count": null,
      "metadata": {
        "id": "rtEVWwjfYbWx"
      },
      "outputs": [],
      "source": [
        "import pandas as pd\n",
        "from torch.utils.data import Dataset, DataLoader\n",
        "\n",
        "class TableDataset(Dataset):\n",
        "    def __init__(self, data_path, target_column):\n",
        "        self.df = pd.read_csv(data_path)\n",
        "        self.target_column = target_column\n",
        "\n",
        "    def __len__(self):\n",
        "        return len(self.df)\n",
        "\n",
        "    def __getitem__(self, idx):\n",
        "        features = self.df.iloc[idx].drop(self.target_column)\n",
        "        target = self.df.iloc[idx][self.target_column]\n",
        "        return features, target\n",
        "\n",
        "# Пример использования\n",
        "data_path = 'data.csv'\n",
        "target_column = 'target_variable'\n",
        "dataset = TableDataset(data_path, target_column)\n",
        "dataloader = DataLoader(dataset, batch_size=32, shuffle=True)\n",
        "\n",
        "# Итерирование по данным\n",
        "for features, target in dataloader:\n",
        "    # ... ваш код обучения модели"
      ]
    }
  ]
}