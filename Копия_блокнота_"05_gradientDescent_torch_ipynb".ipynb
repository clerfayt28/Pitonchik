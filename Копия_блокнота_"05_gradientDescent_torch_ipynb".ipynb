{
  "nbformat": 4,
  "nbformat_minor": 0,
  "metadata": {
    "colab": {
      "provenance": [],
      "authorship_tag": "ABX9TyODgTT3J86E+2IcaqP379/R",
      "include_colab_link": true
    },
    "kernelspec": {
      "name": "python3",
      "display_name": "Python 3"
    },
    "language_info": {
      "name": "python"
    }
  },
  "cells": [
    {
      "cell_type": "markdown",
      "metadata": {
        "id": "view-in-github",
        "colab_type": "text"
      },
      "source": [
        "<a href=\"https://colab.research.google.com/github/clerfayt28/Pitonchik/blob/main/%D0%9A%D0%BE%D0%BF%D0%B8%D1%8F_%D0%B1%D0%BB%D0%BE%D0%BA%D0%BD%D0%BE%D1%82%D0%B0_%2205_gradientDescent_torch_ipynb%22.ipynb\" target=\"_parent\"><img src=\"https://colab.research.google.com/assets/colab-badge.svg\" alt=\"Open In Colab\"/></a>"
      ]
    },
    {
      "cell_type": "markdown",
      "source": [
        "# Import Libraries"
      ],
      "metadata": {
        "id": "khqphWPGI3yp"
      }
    },
    {
      "cell_type": "code",
      "execution_count": 10,
      "metadata": {
        "id": "ZOUk1EInH84A"
      },
      "outputs": [],
      "source": [
        "import torch\n",
        "import torch.nn as nn"
      ]
    },
    {
      "cell_type": "markdown",
      "source": [
        "# Initiaization"
      ],
      "metadata": {
        "id": "akjvnQxEIrq0"
      }
    },
    {
      "cell_type": "code",
      "source": [
        "# y=2*x\n",
        "x = torch.tensor([1,2,3,4], dtype = torch.float32)\n",
        "y = torch.tensor([2,4,6,8], dtype = torch.float32)\n",
        "\n",
        "w = torch.tensor (0.0, dtype=torch.float32, requires_grad=True)\n",
        "\n",
        "lr = 0.01 #learning rate\n",
        "n = 1000 #number of iterations"
      ],
      "metadata": {
        "id": "rMEnyUFSIiQh"
      },
      "execution_count": 11,
      "outputs": []
    },
    {
      "cell_type": "markdown",
      "source": [
        "# Model prediction"
      ],
      "metadata": {
        "id": "z4cSdUgfKSmY"
      }
    },
    {
      "cell_type": "code",
      "source": [
        "def forward(w,x):\n",
        "  return w*x"
      ],
      "metadata": {
        "id": "LgzHFNVbJf0H"
      },
      "execution_count": 12,
      "outputs": []
    },
    {
      "cell_type": "markdown",
      "source": [
        "# Loss\n",
        "The loss is mean square error (MSE)"
      ],
      "metadata": {
        "id": "2j1qGYf8K26q"
      }
    },
    {
      "cell_type": "code",
      "source": [
        "loss = nn.MSELoss()"
      ],
      "metadata": {
        "id": "hHWbOIo_K5IQ"
      },
      "execution_count": 13,
      "outputs": []
    },
    {
      "cell_type": "markdown",
      "source": [
        "# Training"
      ],
      "metadata": {
        "id": "-L9q3qbBNlFG"
      }
    },
    {
      "cell_type": "code",
      "source": [
        "optimizer = torch.optim.SGD ([w], lr=lr)\n",
        "\n",
        "for epoch in range(n):\n",
        "  #prediction\n",
        "  h = forward(w,x)\n",
        "  #loss\n",
        "  L = loss(y,h)\n",
        "  #gradient\n",
        "  L.backward ()\n",
        "  #update\n",
        "  optimizer.step()\n",
        "  #zero gradients\n",
        "  optimizer.zero_grad()\n",
        "\n",
        "\n",
        "  if epoch % 100 == 0:\n",
        "    print (f'epoch {epoch +1}: w = {w:.3f}, loss = {L:.5f}')\n",
        "print (f'prediction after training: h(5) = {forward(w,5):.3f}')\n"
      ],
      "metadata": {
        "colab": {
          "base_uri": "https://localhost:8080/"
        },
        "id": "lT0O8o3SNkRX",
        "outputId": "9442c3e4-4de3-4004-fe37-1ec604d2fc33"
      },
      "execution_count": 14,
      "outputs": [
        {
          "output_type": "stream",
          "name": "stdout",
          "text": [
            "epoch 1: w = 0.300, loss = 30.00000\n",
            "epoch 101: w = 2.000, loss = 0.00000\n",
            "epoch 201: w = 2.000, loss = 0.00000\n",
            "epoch 301: w = 2.000, loss = 0.00000\n",
            "epoch 401: w = 2.000, loss = 0.00000\n",
            "epoch 501: w = 2.000, loss = 0.00000\n",
            "epoch 601: w = 2.000, loss = 0.00000\n",
            "epoch 701: w = 2.000, loss = 0.00000\n",
            "epoch 801: w = 2.000, loss = 0.00000\n",
            "epoch 901: w = 2.000, loss = 0.00000\n",
            "prediction after training: h(5) = 10.000\n"
          ]
        }
      ]
    }
  ]
}