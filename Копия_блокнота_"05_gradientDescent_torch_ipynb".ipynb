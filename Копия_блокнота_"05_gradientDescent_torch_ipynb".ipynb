{
  "nbformat": 4,
  "nbformat_minor": 0,
  "metadata": {
    "colab": {
      "provenance": [],
      "authorship_tag": "ABX9TyPbyDEm6UCGHH9NS5N+0OAY",
      "include_colab_link": true
    },
    "kernelspec": {
      "name": "python3",
      "display_name": "Python 3"
    },
    "language_info": {
      "name": "python"
    }
  },
  "cells": [
    {
      "cell_type": "markdown",
      "metadata": {
        "id": "view-in-github",
        "colab_type": "text"
      },
      "source": [
        "<a href=\"https://colab.research.google.com/github/clerfayt28/Pitonchik/blob/main/%D0%9A%D0%BE%D0%BF%D0%B8%D1%8F_%D0%B1%D0%BB%D0%BE%D0%BA%D0%BD%D0%BE%D1%82%D0%B0_%2205_gradientDescent_torch_ipynb%22.ipynb\" target=\"_parent\"><img src=\"https://colab.research.google.com/assets/colab-badge.svg\" alt=\"Open In Colab\"/></a>"
      ]
    },
    {
      "cell_type": "markdown",
      "source": [
        "# Import Libraries"
      ],
      "metadata": {
        "id": "khqphWPGI3yp"
      }
    },
    {
      "cell_type": "code",
      "execution_count": 37,
      "metadata": {
        "id": "ZOUk1EInH84A"
      },
      "outputs": [],
      "source": [
        "import torch\n",
        "import torch.nn as nn"
      ]
    },
    {
      "cell_type": "markdown",
      "source": [
        "# Initiaization"
      ],
      "metadata": {
        "id": "akjvnQxEIrq0"
      }
    },
    {
      "cell_type": "code",
      "source": [
        "# y=2*x\n",
        "x = torch.tensor([[1],[2],[3],[4]], dtype = torch.float32)\n",
        "y = torch.tensor([[2],[4],[6],[8]], dtype = torch.float32)\n",
        "n_samples, n_features = x.shape\n",
        "print(n_samples, n_features)\n",
        "\n",
        "x_test = torch.tensor([5], dtype=torch.float32)\n",
        "\n",
        "lr = 0.01 #learning rate\n",
        "n = 1000 #number of iterations"
      ],
      "metadata": {
        "id": "rMEnyUFSIiQh",
        "colab": {
          "base_uri": "https://localhost:8080/"
        },
        "outputId": "f1e1e016-5696-4f4c-a0ce-1ea4cc0fb6f5"
      },
      "execution_count": 38,
      "outputs": [
        {
          "output_type": "stream",
          "name": "stdout",
          "text": [
            "4 1\n"
          ]
        }
      ]
    },
    {
      "cell_type": "markdown",
      "source": [
        "# Model prediction"
      ],
      "metadata": {
        "id": "z4cSdUgfKSmY"
      }
    },
    {
      "cell_type": "code",
      "source": [
        "input_size = n_features\n",
        "output_size = 1\n",
        "\n",
        "model = nn.Linear(input_size, output_size)\n",
        "\n",
        "class LinearRegression (nn.Module):\n",
        "\n",
        "  def __init__(self, input_dim, output_dim) -> None:\n",
        "    super(LinearRegression, self).__init__()\n",
        "    #define layers\n",
        "    self.lin = nn.Linear (input_dim, output_dim)\n",
        "\n",
        "  def forward (self, x):\n",
        "    return self.lin(x)\n",
        "\n",
        "model = LinearRegression (input_size, output_size)"
      ],
      "metadata": {
        "id": "LgzHFNVbJf0H"
      },
      "execution_count": 39,
      "outputs": []
    },
    {
      "cell_type": "markdown",
      "source": [
        "# Loss\n",
        "The loss is mean square error (MSE)"
      ],
      "metadata": {
        "id": "2j1qGYf8K26q"
      }
    },
    {
      "cell_type": "code",
      "source": [
        "loss = nn.MSELoss()"
      ],
      "metadata": {
        "id": "hHWbOIo_K5IQ"
      },
      "execution_count": 40,
      "outputs": []
    },
    {
      "cell_type": "markdown",
      "source": [
        "# Training"
      ],
      "metadata": {
        "id": "-L9q3qbBNlFG"
      }
    },
    {
      "cell_type": "code",
      "source": [
        "optimizer = torch.optim.SGD (model.parameters(), lr=lr)\n",
        "\n",
        "for epoch in range(n):\n",
        "  #prediction\n",
        "  h = model(x)\n",
        "  #loss\n",
        "  L = loss(y,h)\n",
        "  #gradient\n",
        "  L.backward ()\n",
        "  #update\n",
        "  optimizer.step()\n",
        "  #zero gradients\n",
        "  optimizer.zero_grad()\n",
        "\n",
        "\n",
        "  if epoch % 100 == 0:\n",
        "    [w,b] = model.parameters()\n",
        "    print (f'epoch {epoch +1}: w = {w[0][0]:.3f}, loss = {L:.5f}')\n",
        "print (f'prediction after training: h(5) = {model(x_test).item():.3f}')\n"
      ],
      "metadata": {
        "colab": {
          "base_uri": "https://localhost:8080/"
        },
        "id": "lT0O8o3SNkRX",
        "outputId": "f2345c44-ef8f-4264-dad6-8579576fb6c6"
      },
      "execution_count": 41,
      "outputs": [
        {
          "output_type": "stream",
          "name": "stdout",
          "text": [
            "epoch 1: w = 0.833, loss = 9.02621\n",
            "epoch 101: w = 1.737, loss = 0.10083\n",
            "epoch 201: w = 1.805, loss = 0.05535\n",
            "epoch 301: w = 1.855, loss = 0.03039\n",
            "epoch 401: w = 1.893, loss = 0.01668\n",
            "epoch 501: w = 1.921, loss = 0.00916\n",
            "epoch 601: w = 1.941, loss = 0.00503\n",
            "epoch 701: w = 1.956, loss = 0.00276\n",
            "epoch 801: w = 1.968, loss = 0.00152\n",
            "epoch 901: w = 1.976, loss = 0.00083\n",
            "prediction after training: h(5) = 9.963\n"
          ]
        }
      ]
    }
  ]
}