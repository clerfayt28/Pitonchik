{
  "nbformat": 4,
  "nbformat_minor": 0,
  "metadata": {
    "colab": {
      "provenance": [],
      "authorship_tag": "ABX9TyMhbMlv5CeeJMbnkTrg75DU",
      "include_colab_link": true
    },
    "kernelspec": {
      "name": "python3",
      "display_name": "Python 3"
    },
    "language_info": {
      "name": "python"
    }
  },
  "cells": [
    {
      "cell_type": "markdown",
      "metadata": {
        "id": "view-in-github",
        "colab_type": "text"
      },
      "source": [
        "<a href=\"https://colab.research.google.com/github/clerfayt28/Pitonchik/blob/main/%D0%9A%D0%BE%D0%BF%D0%B8%D1%8F_%D0%B1%D0%BB%D0%BE%D0%BA%D0%BD%D0%BE%D1%82%D0%B0_%2205_gradientDescent_torch_ipynb%22.ipynb\" target=\"_parent\"><img src=\"https://colab.research.google.com/assets/colab-badge.svg\" alt=\"Open In Colab\"/></a>"
      ]
    },
    {
      "cell_type": "markdown",
      "source": [
        "# Import Libraries"
      ],
      "metadata": {
        "id": "khqphWPGI3yp"
      }
    },
    {
      "cell_type": "code",
      "execution_count": 10,
      "metadata": {
        "id": "ZOUk1EInH84A"
      },
      "outputs": [],
      "source": [
        "import torch\n",
        "import torch.nn as nn"
      ]
    },
    {
      "cell_type": "markdown",
      "source": [
        "# Initiaization"
      ],
      "metadata": {
        "id": "akjvnQxEIrq0"
      }
    },
    {
      "cell_type": "code",
      "source": [
        "# y=2*x\n",
        "x = torch.tensor([[1],[2],[3],[4]], dtype = torch.float32)\n",
        "y = torch.tensor([[2],[4],[6],[8]], dtype = torch.float32)\n",
        "n_samples, n_features = x.shape\n",
        "print(n_samples, n_features)\n",
        "\n",
        "x_test = torch.tensor([5], dtype=torch.float32)\n",
        "\n",
        "lr = 0.01 #learning rate\n",
        "n = 1000 #number of iterations"
      ],
      "metadata": {
        "id": "rMEnyUFSIiQh",
        "colab": {
          "base_uri": "https://localhost:8080/"
        },
        "outputId": "199ec10e-d603-45c1-adae-46ecf018a14a"
      },
      "execution_count": 26,
      "outputs": [
        {
          "output_type": "stream",
          "name": "stdout",
          "text": [
            "4 1\n"
          ]
        }
      ]
    },
    {
      "cell_type": "markdown",
      "source": [
        "# Model prediction"
      ],
      "metadata": {
        "id": "z4cSdUgfKSmY"
      }
    },
    {
      "cell_type": "code",
      "source": [
        "input_size = n_features\n",
        "output_size = 1\n",
        "\n",
        "model = nn.Linear(input_size, output_size)"
      ],
      "metadata": {
        "id": "LgzHFNVbJf0H"
      },
      "execution_count": 19,
      "outputs": []
    },
    {
      "cell_type": "markdown",
      "source": [
        "# Loss\n",
        "The loss is mean square error (MSE)"
      ],
      "metadata": {
        "id": "2j1qGYf8K26q"
      }
    },
    {
      "cell_type": "code",
      "source": [
        "loss = nn.MSELoss()"
      ],
      "metadata": {
        "id": "hHWbOIo_K5IQ"
      },
      "execution_count": 13,
      "outputs": []
    },
    {
      "cell_type": "markdown",
      "source": [
        "# Training"
      ],
      "metadata": {
        "id": "-L9q3qbBNlFG"
      }
    },
    {
      "cell_type": "code",
      "source": [
        "optimizer = torch.optim.SGD (model.parameters(), lr=lr)\n",
        "\n",
        "for epoch in range(n):\n",
        "  #prediction\n",
        "  h = model(x)\n",
        "  #loss\n",
        "  L = loss(y,h)\n",
        "  #gradient\n",
        "  L.backward ()\n",
        "  #update\n",
        "  optimizer.step()\n",
        "  #zero gradients\n",
        "  optimizer.zero_grad()\n",
        "\n",
        "\n",
        "  if epoch % 100 == 0:\n",
        "    [w,b] = model.parameters()\n",
        "    print (f'epoch {epoch +1}: w = {w[0][0]:.3f}, loss = {L:.5f}')\n",
        "print (f'prediction after training: h(5) = {model(x_test).item():.3f}')\n"
      ],
      "metadata": {
        "colab": {
          "base_uri": "https://localhost:8080/"
        },
        "id": "lT0O8o3SNkRX",
        "outputId": "c1d13a0d-1bbf-404a-a865-695f0eca4d85"
      },
      "execution_count": 31,
      "outputs": [
        {
          "output_type": "stream",
          "name": "stdout",
          "text": [
            "epoch 1: w = 1.970, loss = 0.00130\n",
            "epoch 101: w = 1.978, loss = 0.00072\n",
            "epoch 201: w = 1.984, loss = 0.00039\n",
            "epoch 301: w = 1.988, loss = 0.00022\n",
            "epoch 401: w = 1.991, loss = 0.00012\n",
            "epoch 501: w = 1.993, loss = 0.00007\n",
            "epoch 601: w = 1.995, loss = 0.00004\n",
            "epoch 701: w = 1.996, loss = 0.00002\n",
            "epoch 801: w = 1.997, loss = 0.00001\n",
            "epoch 901: w = 1.998, loss = 0.00001\n",
            "prediction after training: h(5) = 9.997\n"
          ]
        }
      ]
    }
  ]
}