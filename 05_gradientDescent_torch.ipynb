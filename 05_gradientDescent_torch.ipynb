{
  "nbformat": 4,
  "nbformat_minor": 0,
  "metadata": {
    "colab": {
      "provenance": [],
      "authorship_tag": "ABX9TyNeQ0Aap4uZpDkHqT6+rr4s",
      "include_colab_link": true
    },
    "kernelspec": {
      "name": "python3",
      "display_name": "Python 3"
    },
    "language_info": {
      "name": "python"
    }
  },
  "cells": [
    {
      "cell_type": "markdown",
      "metadata": {
        "id": "view-in-github",
        "colab_type": "text"
      },
      "source": [
        "<a href=\"https://colab.research.google.com/github/clerfayt28/Pitonchik/blob/main/05_gradientDescent_torch.ipynb\" target=\"_parent\"><img src=\"https://colab.research.google.com/assets/colab-badge.svg\" alt=\"Open In Colab\"/></a>"
      ]
    },
    {
      "cell_type": "markdown",
      "source": [
        "# Import Libraries"
      ],
      "metadata": {
        "id": "khqphWPGI3yp"
      }
    },
    {
      "cell_type": "code",
      "execution_count": 30,
      "metadata": {
        "id": "ZOUk1EInH84A"
      },
      "outputs": [],
      "source": [
        "\n",
        "import torch"
      ]
    },
    {
      "cell_type": "markdown",
      "source": [
        "# Initiaization"
      ],
      "metadata": {
        "id": "akjvnQxEIrq0"
      }
    },
    {
      "cell_type": "code",
      "source": [
        "# y=2*x\n",
        "x = torch.tensor([1,2,3,4], dtype = torch.float32)\n",
        "y = torch.tensor([2,4,6,8], dtype = torch.float32)\n",
        "\n",
        "w = torch.tensor (0.0, dtype=torch.float32, requires_grad=True)\n",
        "\n",
        "lr = 0.01 #learning rate\n",
        "n = 1000 #number of iterations"
      ],
      "metadata": {
        "id": "rMEnyUFSIiQh"
      },
      "execution_count": 31,
      "outputs": []
    },
    {
      "cell_type": "markdown",
      "source": [
        "# Model prediction"
      ],
      "metadata": {
        "id": "z4cSdUgfKSmY"
      }
    },
    {
      "cell_type": "code",
      "source": [
        "def forward(w,x):\n",
        "  return w*x"
      ],
      "metadata": {
        "id": "LgzHFNVbJf0H"
      },
      "execution_count": 32,
      "outputs": []
    },
    {
      "cell_type": "markdown",
      "source": [
        "# Loss\n",
        "The loss is mean square error (MSE)"
      ],
      "metadata": {
        "id": "2j1qGYf8K26q"
      }
    },
    {
      "cell_type": "code",
      "source": [
        "def loss (y,h):\n",
        "  return ((y-h)**2).mean()"
      ],
      "metadata": {
        "id": "hHWbOIo_K5IQ"
      },
      "execution_count": 33,
      "outputs": []
    },
    {
      "cell_type": "markdown",
      "source": [
        "# Training"
      ],
      "metadata": {
        "id": "-L9q3qbBNlFG"
      }
    },
    {
      "cell_type": "code",
      "source": [
        "for epoch in range(n):\n",
        "  #prediction\n",
        "  h = forward(w,x)\n",
        "  #loss\n",
        "  L = loss(y,h)\n",
        "  #gradient\n",
        "  L.backward ()\n",
        "  #update\n",
        "  with torch.no_grad():\n",
        "    w -= lr*w.grad\n",
        "  w.grad.zero_()\n",
        "\n",
        "  if epoch % 100 == 0:\n",
        "    print (f'epoch {epoch +1}: w = {w:.3f}, loss = {L:.5f}')\n",
        "print (f'prediction after training: h(5) = {forward(w,5):.3f}')\n"
      ],
      "metadata": {
        "colab": {
          "base_uri": "https://localhost:8080/"
        },
        "id": "lT0O8o3SNkRX",
        "outputId": "e72a02c4-f36e-44f3-f2d5-aef9c7b7f19a"
      },
      "execution_count": 34,
      "outputs": [
        {
          "output_type": "stream",
          "name": "stdout",
          "text": [
            "epoch 1: w = 0.300, loss = 30.00000\n",
            "epoch 101: w = 2.000, loss = 0.00000\n",
            "epoch 201: w = 2.000, loss = 0.00000\n",
            "epoch 301: w = 2.000, loss = 0.00000\n",
            "epoch 401: w = 2.000, loss = 0.00000\n",
            "epoch 501: w = 2.000, loss = 0.00000\n",
            "epoch 601: w = 2.000, loss = 0.00000\n",
            "epoch 701: w = 2.000, loss = 0.00000\n",
            "epoch 801: w = 2.000, loss = 0.00000\n",
            "epoch 901: w = 2.000, loss = 0.00000\n",
            "prediction after training: h(5) = 10.000\n"
          ]
        }
      ]
    }
  ]
}