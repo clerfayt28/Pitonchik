{
  "nbformat": 4,
  "nbformat_minor": 0,
  "metadata": {
    "colab": {
      "provenance": [],
      "authorship_tag": "ABX9TyNGzS1Re44TnNGSCL4FVBN+",
      "include_colab_link": true
    },
    "kernelspec": {
      "name": "python3",
      "display_name": "Python 3"
    },
    "language_info": {
      "name": "python"
    }
  },
  "cells": [
    {
      "cell_type": "markdown",
      "metadata": {
        "id": "view-in-github",
        "colab_type": "text"
      },
      "source": [
        "<a href=\"https://colab.research.google.com/github/clerfayt28/Pitonchik/blob/main/PyTorch_Tutorial_13.ipynb\" target=\"_parent\"><img src=\"https://colab.research.google.com/assets/colab-badge.svg\" alt=\"Open In Colab\"/></a>"
      ]
    },
    {
      "cell_type": "code",
      "execution_count": 8,
      "metadata": {
        "id": "59ti0fklMZzD"
      },
      "outputs": [],
      "source": [
        "import torch\n",
        "import torch.nn as nn\n",
        "import torchvision\n",
        "import torchvision.transforms as transforms\n",
        "import matplotlib.pyplot as plt"
      ]
    },
    {
      "cell_type": "code",
      "source": [
        "from torchvision.transforms.transforms import ToTensor\n",
        "# device config\n",
        "device = torch.device ('cuda' if torch.cuda.is_available() else 'cpu')\n",
        "\n",
        "# hyper parameters\n",
        "input_size = 784 # 28x28\n",
        "hidden_size = 100\n",
        "num_classes = 10\n",
        "num_epochs = 2\n",
        "batch_size = 100\n",
        "learning_rate = 0.001\n",
        "\n",
        "# MNIST\n",
        "train_dataset = torchvision.datasets.MNIST(root='./wine', train=True,\n",
        "    transform=transforms.ToTensor(), download=True)\n",
        "\n",
        "test_dataset = torchvision.datasets.MNIST(root='./wine', train=False,\n",
        "    transform=transforms.ToTensor())\n",
        "\n",
        "train_loader = torch.utils.data.DataLoader (dataset=train_dataset, batch_size=batch_size,\n",
        "     shuffle=True)\n",
        "\n",
        "test_loader = torch.utils.data.DataLoader (dataset=test_dataset, batch_size=batch_size,\n",
        "     shuffle=False)\n",
        "\n",
        "examples = iter(train_loader)\n",
        "samples, labels = next(examples)\n",
        "print(samples.shape, labels.shape)"
      ],
      "metadata": {
        "colab": {
          "base_uri": "https://localhost:8080/"
        },
        "id": "VXgt2h7yM0az",
        "outputId": "87f9717f-6ed4-4b17-eb21-a04b7f99be4b"
      },
      "execution_count": 9,
      "outputs": [
        {
          "output_type": "stream",
          "name": "stdout",
          "text": [
            "torch.Size([100, 1, 28, 28]) torch.Size([100])\n"
          ]
        }
      ]
    },
    {
      "cell_type": "code",
      "source": [
        "for i in range (6):\n",
        "  plt.subplot (2, 3, i+1)\n",
        "  plt.imshow (samples [i][0], cmap = 'gray')\n",
        "plt.show ()"
      ],
      "metadata": {
        "colab": {
          "base_uri": "https://localhost:8080/",
          "height": 411
        },
        "id": "54ZuRIeaQI4r",
        "outputId": "ac2c5726-9c6a-48e2-fc38-d6b862407cdd"
      },
      "execution_count": 10,
      "outputs": [
        {
          "output_type": "display_data",
          "data": {
            "text/plain": [
              "<Figure size 640x480 with 6 Axes>"
            ],
            "image/png": "[encoded data removed]"
          },
          "metadata": {}
        }
      ]
    },
    {
      "cell_type": "code",
      "source": [
        "class NeuralNet (nn.Module):\n",
        "  def __init__ (self, input_size, hidden_size, num_classes):\n",
        "    super (NeuralNet, self).__init__()\n",
        "    self.l1 = nn.Linear(input_size, hidden_size)\n",
        "    self.relu = nn.ReLU()\n",
        "    self.l2 = nn.Linear(hidden_size, num_classes)\n",
        "\n",
        "  def forward (self, x):\n",
        "    out = self.l1 (x)\n",
        "    out = self.relu (out)\n",
        "    out = self.l2 (out)\n",
        "    return out\n",
        "\n",
        "model = NeuralNet (input_size, hidden_size, num_classes)"
      ],
      "metadata": {
        "id": "0RQ6YUM3bnqt"
      },
      "execution_count": 11,
      "outputs": []
    },
    {
      "cell_type": "code",
      "source": [
        "#loss and optimizer\n",
        "criterion = nn.CrossEntropyLoss ()\n",
        "optimizer = torch.optim.Adam (model.parameters (), lr=learning_rate)\n",
        "\n",
        "#training loop\n",
        "n_total_steps = len (train_loader)\n",
        "for epoch in range (num_epochs):\n",
        "  for i, (images, labels) in enumerate (train_loader):\n",
        "    #100, 1, 28, 28\n",
        "    #100, 784\n",
        "    images = images.reshape (-1, 28*28).to(device)\n",
        "    labels = labels.to(device)\n",
        "\n",
        "    #forward\n",
        "    outputs = model (images)\n",
        "    loss = criterion (outputs, labels)\n",
        "\n",
        "    #backwards\n",
        "    optimizer.zero_grad ()\n",
        "    loss.backward()\n",
        "    optimizer.step()\n",
        "\n",
        "    if (i+1) % 100 == 0:\n",
        "      print (f'epoch {epoch+1}/{num_epochs}, step {i+1}/{n_total_steps}, loss = {loss.item():.4f}')\n",
        "\n",
        "#test\n",
        "with torch.no_grad():\n",
        "  n_correct = 0\n",
        "  n_samples = 0\n",
        "  for images, labels in test_loader:\n",
        "    images = images.reshape (-1, 28*28).to(device)\n",
        "    labels = labels.to(device)\n",
        "    outputs = model (images)\n",
        "\n",
        "    #value, index\n",
        "    _, predictions = torch.max (outputs, 1)\n",
        "    n_samples += labels.shape [0]\n",
        "    n_correct += (predictions == labels).sum().item()\n",
        "\n",
        "  acc = 100.0 * n_correct / n_samples\n",
        "  print(f'accuracy = {acc}')"
      ],
      "metadata": {
        "colab": {
          "base_uri": "https://localhost:8080/"
        },
        "id": "edWpwpRkdXz6",
        "outputId": "c5e107c1-2d0d-495a-a0f2-2b53cd8ce3dc"
      },
      "execution_count": 13,
      "outputs": [
        {
          "output_type": "stream",
          "name": "stdout",
          "text": [
            "epoch 1/2, step 100/600, loss = 0.4357\n",
            "epoch 1/2, step 200/600, loss = 0.3371\n",
            "epoch 1/2, step 300/600, loss = 0.2784\n",
            "epoch 1/2, step 400/600, loss = 0.2394\n",
            "epoch 1/2, step 500/600, loss = 0.1543\n",
            "epoch 1/2, step 600/600, loss = 0.2591\n",
            "epoch 2/2, step 100/600, loss = 0.1081\n",
            "epoch 2/2, step 200/600, loss = 0.3082\n",
            "epoch 2/2, step 300/600, loss = 0.1126\n",
            "epoch 2/2, step 400/600, loss = 0.2577\n",
            "epoch 2/2, step 500/600, loss = 0.1414\n",
            "epoch 2/2, step 600/600, loss = 0.1640\n",
            "accuracy = 95.13\n"
          ]
        }
      ]
    }
  ]
}