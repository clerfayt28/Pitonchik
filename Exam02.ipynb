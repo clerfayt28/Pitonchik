{
  "nbformat": 4,
  "nbformat_minor": 0,
  "metadata": {
    "colab": {
      "provenance": [],
      "authorship_tag": "ABX9TyOJsrYLwJ2cv+TmgMrItPhn",
      "include_colab_link": true
    },
    "kernelspec": {
      "name": "python3",
      "display_name": "Python 3"
    },
    "language_info": {
      "name": "python"
    }
  },
  "cells": [
    {
      "cell_type": "markdown",
      "metadata": {
        "id": "view-in-github",
        "colab_type": "text"
      },
      "source": [
        "<a href=\"https://colab.research.google.com/github/clerfayt28/Pitonchik/blob/main/Exam02.ipynb\" target=\"_parent\"><img src=\"https://colab.research.google.com/assets/colab-badge.svg\" alt=\"Open In Colab\"/></a>"
      ]
    },
    {
      "cell_type": "code",
      "execution_count": 1,
      "metadata": {
        "colab": {
          "base_uri": "https://localhost:8080/",
          "height": 106
        },
        "id": "DgYu3RP11T-8",
        "outputId": "0d0d06cf-06c6-4140-dc30-6f10feffcbcb"
      },
      "outputs": [
        {
          "output_type": "error",
          "ename": "SyntaxError",
          "evalue": "incomplete input (<ipython-input-1-090c3bf567c1>, line 27)",
          "traceback": [
            "\u001b[0;36m  File \u001b[0;32m\"<ipython-input-1-090c3bf567c1>\"\u001b[0;36m, line \u001b[0;32m27\u001b[0m\n\u001b[0;31m    # ... ваш код обучения модели\u001b[0m\n\u001b[0m                                 ^\u001b[0m\n\u001b[0;31mSyntaxError\u001b[0m\u001b[0;31m:\u001b[0m incomplete input\n"
          ]
        }
      ],
      "source": [
        "import os\n",
        "from PIL import Image\n",
        "from torch.utils.data import Dataset, DataLoader\n",
        "\n",
        "class ImageDataset(Dataset):\n",
        "    def __init__(self, data_path, label_path):\n",
        "        self.data_path = data_path\n",
        "        self.labels = pd.read_csv(label_path)\n",
        "\n",
        "    def __len__(self):\n",
        "        return len(self.labels)\n",
        "\n",
        "    def __getitem__(self, idx):\n",
        "        image_path = os.path.join(self.data_path, self.labels.iloc[idx]['image_path'])\n",
        "        image = Image.open(image_path).convert('RGB')\n",
        "        label = self.labels.iloc[idx]['label']\n",
        "        return image, label\n",
        "\n",
        "# Пример использования\n",
        "data_path = 'images/'\n",
        "label_path = 'labels.csv'\n",
        "dataset = ImageDataset(data_path, label_path)\n",
        "dataloader = DataLoader(dataset, batch_size=32, shuffle=True)\n",
        "\n",
        "# Итерирование по данным\n",
        "for image, label in dataloader:\n",
        "    # ... ваш код обучения модели"
      ]
    }
  ]
}