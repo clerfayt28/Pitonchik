{
  "nbformat": 4,
  "nbformat_minor": 0,
  "metadata": {
    "colab": {
      "provenance": [],
      "authorship_tag": "ABX9TyN6o/2gUV9UgHF4iCeqXwNT",
      "include_colab_link": true
    },
    "kernelspec": {
      "name": "python3",
      "display_name": "Python 3"
    },
    "language_info": {
      "name": "python"
    }
  },
  "cells": [
    {
      "cell_type": "markdown",
      "metadata": {
        "id": "view-in-github",
        "colab_type": "text"
      },
      "source": [
        "<a href=\"https://colab.research.google.com/github/clerfayt28/Pitonchik/blob/main/Exam03.ipynb\" target=\"_parent\"><img src=\"https://colab.research.google.com/assets/colab-badge.svg\" alt=\"Open In Colab\"/></a>"
      ]
    },
    {
      "cell_type": "code",
      "execution_count": 1,
      "metadata": {
        "colab": {
          "base_uri": "https://localhost:8080/",
          "height": 106
        },
        "id": "RFn9aweo2THm",
        "outputId": "4dcdda18-c1e6-4a1b-f96c-f1f5e4fd5eb5"
      },
      "outputs": [
        {
          "output_type": "error",
          "ename": "SyntaxError",
          "evalue": "incomplete input (<ipython-input-1-652e51bef459>, line 31)",
          "traceback": [
            "\u001b[0;36m  File \u001b[0;32m\"<ipython-input-1-652e51bef459>\"\u001b[0;36m, line \u001b[0;32m31\u001b[0m\n\u001b[0;31m    # ... ваш код обучения модели\u001b[0m\n\u001b[0m                                 ^\u001b[0m\n\u001b[0;31mSyntaxError\u001b[0m\u001b[0;31m:\u001b[0m incomplete input\n"
          ]
        }
      ],
      "source": [
        "import os\n",
        "from PIL import Image\n",
        "from torch.utils.data import Dataset, DataLoader\n",
        "\n",
        "class ImageFolderDataset(Dataset):\n",
        "    def __init__(self, root_path):\n",
        "        self.root_path = root_path\n",
        "        self.classes = os.listdir(root_path)\n",
        "        self.images = []\n",
        "        for cls in self.classes:\n",
        "            cls_path = os.path.join(root_path, cls)\n",
        "            for img in os.listdir(cls_path):\n",
        "                img_path = os.path.join(cls_path, img)\n",
        "                self.images.append((img_path, cls))\n",
        "\n",
        "    def __len__(self):\n",
        "        return len(self.images)\n",
        "\n",
        "    def __getitem__(self, idx):\n",
        "        img_path, label = self.images[idx]\n",
        "        image = Image.open(img_path).convert('RGB')\n",
        "        return image, label\n",
        "\n",
        "# Пример использования\n",
        "root_path = 'images/'\n",
        "dataset = ImageFolderDataset(root_path)\n",
        "dataloader = DataLoader(dataset, batch_size=32, shuffle=True)\n",
        "\n",
        "# Итерирование по данным\n",
        "for image, label in dataloader:\n",
        "    # ... ваш код обучения модели"
      ]
    }
  ]
}